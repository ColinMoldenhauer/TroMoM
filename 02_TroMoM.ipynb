{
 "cells": [
  {
   "cell_type": "markdown",
   "source": [
    "# TroMoM\n",
    "### Tropical Mosquito Monitor\n",
    "\n",
    "In this notebook, we read the preprocessed data as if the data were provided by the customer.\n",
    "Then, the data gets analyzed and further processed to the point of outputting the hazard map.\n",
    "\n",
    "The processing steps, as specified in the project plan, are the following:\n",
    "\n",
    "\n",
    "![](data_flow.png)"
   ],
   "metadata": {
    "collapsed": false
   }
  },
  {
   "cell_type": "markdown",
   "source": [
    "### Imports"
   ],
   "metadata": {
    "collapsed": false
   }
  },
  {
   "cell_type": "code",
   "execution_count": 88,
   "outputs": [],
   "source": [
    "import os\n",
    "\n",
    "import numpy as np\n",
    "import matplotlib.pyplot as plt\n",
    "\n",
    "import rasterio"
   ],
   "metadata": {
    "collapsed": false
   }
  },
  {
   "cell_type": "markdown",
   "source": [
    "### Read Data\n",
    "As a first step, read preprocessed analysis-ready data from file."
   ],
   "metadata": {
    "collapsed": false
   }
  },
  {
   "cell_type": "code",
   "execution_count": 62,
   "outputs": [],
   "source": [
    "\"\"\" Expected data structure\n",
    "\n",
    "<area_name>_EPSG<epsg>_<date:YYYY-MM-DD> (one folder per sample, defined by time and area)\n",
    "|\n",
    "|- surface_temperature.tiff\n",
    "|- soil_moisture.tiff\n",
    "|- ndvi.tiff\n",
    "|- population_density.tiff\n",
    "\"\"\"\n",
    "dir_data = \"data/processed/borneo_EPSG4326_2023-02-15\"    # example data directory\n",
    "\n",
    "\n",
    "def read_data(data_dir_list):\n",
    "    out = []\n",
    "    for data_dir in data_dir_list:\n",
    "        temp = rasterio.open(os.path.join(data_dir, \"surface_temperature.tiff\"))\n",
    "        moist = rasterio.open(os.path.join(data_dir, \"soil_moisture.tiff\"))\n",
    "        ndvi = rasterio.open(os.path.join(data_dir, \"ndvi.tiff\"))\n",
    "        pop = rasterio.open(os.path.join(data_dir, \"population_density.tiff\"))\n",
    "\n",
    "        print(temp.shape, type(temp))\n",
    "\n",
    "        out.append(np.concatenate((moist, temp, ndvi, pop)))\n",
    "\n",
    "    return out"
   ],
   "metadata": {
    "collapsed": false
   }
  },
  {
   "cell_type": "code",
   "execution_count": 63,
   "outputs": [
    {
     "ename": "FileNotFoundError",
     "evalue": "[WinError 3] Das System kann den angegebenen Pfad nicht finden: 'data/processed'",
     "output_type": "error",
     "traceback": [
      "\u001B[1;31m---------------------------------------------------------------------------\u001B[0m",
      "\u001B[1;31mFileNotFoundError\u001B[0m                         Traceback (most recent call last)",
      "Input \u001B[1;32mIn [63]\u001B[0m, in \u001B[0;36m<cell line: 1>\u001B[1;34m()\u001B[0m\n\u001B[1;32m----> 1\u001B[0m data_dir_list \u001B[38;5;241m=\u001B[39m \u001B[43mos\u001B[49m\u001B[38;5;241;43m.\u001B[39;49m\u001B[43mlistdir\u001B[49m\u001B[43m(\u001B[49m\u001B[38;5;124;43m\"\u001B[39;49m\u001B[38;5;124;43mdata/processed\u001B[39;49m\u001B[38;5;124;43m\"\u001B[39;49m\u001B[43m)\u001B[49m\n\u001B[0;32m      2\u001B[0m \u001B[38;5;66;03m# optionally provide spatial/temporal filtering options\u001B[39;00m\n\u001B[0;32m      4\u001B[0m data \u001B[38;5;241m=\u001B[39m read_data(data_dir_list)\n",
      "\u001B[1;31mFileNotFoundError\u001B[0m: [WinError 3] Das System kann den angegebenen Pfad nicht finden: 'data/processed'"
     ]
    }
   ],
   "source": [
    "data_dir_list = os.listdir(\"data/processed\")\n",
    "# optionally provide spatial/temporal filtering options\n",
    "\n",
    "data = read_data(data_dir_list)     # a list of stacked data samples"
   ],
   "metadata": {
    "collapsed": false
   }
  },
  {
   "cell_type": "markdown",
   "source": [
    "### Process Data\n",
    "Now, the actual processing for our product starts, following the data flow specified at the top.\n",
    "The simplest algorithm would be to threshold all data layers separately, so we specify the necessary thresholds."
   ],
   "metadata": {
    "collapsed": false
   }
  },
  {
   "cell_type": "code",
   "execution_count": 111,
   "outputs": [],
   "source": [
    "# need to be determined by research/looking at example values in swampy areas\n",
    "\n",
    "# example values, typical values need to be determined after download of data\n",
    "thresh_temp = [20, 35]\n",
    "thresh_moisture = [.3, .9]\n",
    "thresh_ndvi = [.3, 1]\n",
    "thresh_pop = [.1, 1]\n",
    "\n",
    "threshs = [thresh_temp, thresh_moisture, thresh_ndvi, thresh_pop]"
   ],
   "metadata": {
    "collapsed": false
   }
  },
  {
   "cell_type": "code",
   "execution_count": 72,
   "outputs": [],
   "source": [
    "def classify_b___ooooooold_y_threshold(data_list, *threshs):\n",
    "    print(threshs)\n",
    "    out = []\n",
    "    for data in data_list:\n",
    "        print(\"data:\", data.shape)\n",
    "        assert data.shape[0] == len(threshs), \"Number of thresholds must equal number of data layers.\"\n",
    "        classif = np.zeros(data.shape[:2])  # output per sample\n",
    "\n",
    "        for i, layer_, thresh_ in enumerate(zip(data, threshs)):\n",
    "            lower, upper = thresh_\n",
    "            classif[layer_ > lower & layer_ < upper] += 10**i   # keep track which conditions are met\n",
    "\n",
    "        out.append(classif)\n",
    "\n",
    "    return out"
   ],
   "metadata": {
    "collapsed": false
   }
  },
  {
   "cell_type": "markdown",
   "source": [
    "#### Create test data\n",
    "A simple dummy input is created to test the processing/classification algorithm.\n",
    "All possible outcome states are created."
   ],
   "metadata": {
    "collapsed": false
   }
  },
  {
   "cell_type": "code",
   "execution_count": 103,
   "outputs": [],
   "source": [
    "from itertools import product\n",
    "\n",
    "def create_test_data(*threshs):\n",
    "    # print(threshs)\n",
    "    num_decisions = len(threshs)\n",
    "    num_outcomes = 2**num_decisions\n",
    "\n",
    "\n",
    "    num_rows = int(np.ceil(np.sqrt(num_outcomes)))\n",
    "    num_cols = int(np.round(num_outcomes/num_rows))\n",
    "\n",
    "\n",
    "    if num_rows*num_cols < num_outcomes: num_cols += 1\n",
    "\n",
    "    # spots = num_rows*num_cols\n",
    "    # del threshs\n",
    "    # print(locals())\n",
    "    # print(spots, num_outcomes, spots >= num_outcomes, num_rows*(num_cols-1) >= num_outcomes)\n",
    "\n",
    "    vals = [[t_[0]-1, (t_[1]+t_[0])/2] for t_ in threshs]\n",
    "    combin = list(product(*vals))\n",
    "    # print(\"combin:\", combin)\n",
    "    if num_rows*num_cols - num_outcomes: combin += [tuple([-1]*len(threshs))]*(num_rows*num_cols - num_outcomes)\n",
    "    data = np.array(combin).reshape((num_rows, num_cols, len(threshs))).transpose(2, 0, 1)\n",
    "\n",
    "    # print(data.shape)\n",
    "\n",
    "    # data format: n_row x n_col x n_layers\n",
    "    return data\n",
    "\n",
    "\n",
    "\n",
    "\n",
    "for i in range(1, 6):\n",
    "    dummy_data = [[1, 2]]*i\n",
    "    create_test_data(*dummy_data)"
   ],
   "metadata": {
    "collapsed": false
   }
  },
  {
   "cell_type": "markdown",
   "source": [
    "#### Test classification\n",
    "The previously created dummy data can now be passed through our classification."
   ],
   "metadata": {
    "collapsed": false
   }
  },
  {
   "cell_type": "code",
   "execution_count": 112,
   "outputs": [
    {
     "name": "stdout",
     "output_type": "stream",
     "text": [
      "\n",
      "([20, 35], [0.3, 0.9], [0.3, 1], [0.1, 1])\n",
      "data: (4, 4, 4)\n",
      "threshs: 4\n",
      "risk thresh: 1111\n"
     ]
    }
   ],
   "source": [
    "def classify_by_threshold(data_list, *threshs, no_data_val=-1):\n",
    "    print()\n",
    "    print(threshs)\n",
    "    out = []\n",
    "    for data in data_list:\n",
    "        print(\"data:\", data.shape)\n",
    "        print(\"threshs:\", len(threshs))\n",
    "        assert data.shape[0] == len(threshs), \"Number of thresholds must equal number of data layers.\"\n",
    "        classif = np.zeros(data.shape[:2])  # output per sample\n",
    "\n",
    "        # for layer_, thresh_ in zip(data, threshs):\n",
    "        #     print(\"layer\", layer_, layer_.shape)\n",
    "        #     print(\"thresh_\", thresh_)\n",
    "\n",
    "        # np.transpose\n",
    "        # for i, (layer_, thresh_) in enumerate(zip(data.transpose(2,0,1), threshs)):\n",
    "        for i, (layer_, thresh_) in enumerate(zip(data, threshs)):\n",
    "            # print(\"layer\", layer_, layer_.shape)\n",
    "            # print(\"thresh_\", thresh_)\n",
    "            lower, upper = thresh_\n",
    "            classif[layer_ == no_data_val] = no_data_val        # no data pixels are propagated\n",
    "            classif[(layer_ >= lower) & (layer_ <= upper) & (classif != no_data_val)] += 10**i   # keep track which conditions are met\n",
    "\n",
    "\n",
    "        out.append(classif.astype(int))\n",
    "\n",
    "    return out\n",
    "\n",
    "test_data = create_test_data(thresh_temp, thresh_moisture, thresh_ndvi, thresh_pop)\n",
    "# print(\"test data:\")\n",
    "# print(test_data)\n",
    "test_classif = classify_by_threshold([test_data], thresh_temp, thresh_moisture, thresh_ndvi, thresh_pop)[0]\n",
    "risk_thresh = int(\"1\"*len(threshs))\n"
   ],
   "metadata": {
    "collapsed": false
   }
  },
  {
   "cell_type": "code",
   "execution_count": 109,
   "outputs": [
    {
     "name": "stdout",
     "output_type": "stream",
     "text": [
      "\n",
      "tset classif:\n",
      "[[   0 1000  100 1100]\n",
      " [  10 1010  110 1110]\n",
      " [   1 1001  101 1101]\n",
      " [  11 1011  111 1111]]\n"
     ]
    }
   ],
   "source": [
    "print()\n",
    "print(\"tset classif:\")\n",
    "print(test_classif)"
   ],
   "metadata": {
    "collapsed": false
   }
  },
  {
   "cell_type": "code",
   "execution_count": 113,
   "outputs": [
    {
     "data": {
      "text/plain": "<matplotlib.image.AxesImage at 0x1f9355cef40>"
     },
     "execution_count": 113,
     "metadata": {},
     "output_type": "execute_result"
    },
    {
     "data": {
      "text/plain": "<Figure size 432x288 with 3 Axes>",
      "image/png": "[encoded data removed]"
     },
     "metadata": {
      "needs_background": "light"
     },
     "output_type": "display_data"
    }
   ],
   "source": [
    "fig, (ax_input, ax_output, ax_single) = plt.subplots(1, 3)\n",
    "\n",
    "ax_output.imshow(test_classif)\n",
    "ax_single.imshow(test_classif == risk_thresh)\n"
   ],
   "metadata": {
    "collapsed": false
   }
  },
  {
   "cell_type": "code",
   "execution_count": null,
   "outputs": [],
   "source": [],
   "metadata": {
    "collapsed": false
   }
  }
 ],
 "metadata": {
  "kernelspec": {
   "display_name": "Python 3",
   "language": "python",
   "name": "python3"
  },
  "language_info": {
   "codemirror_mode": {
    "name": "ipython",
    "version": 2
   },
   "file_extension": ".py",
   "mimetype": "text/x-python",
   "name": "python",
   "nbconvert_exporter": "python",
   "pygments_lexer": "ipython2",
   "version": "2.7.6"
  }
 },
 "nbformat": 4,
 "nbformat_minor": 0
}
