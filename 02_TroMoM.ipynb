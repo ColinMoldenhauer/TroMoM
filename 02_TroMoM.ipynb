{
 "cells": [
  {
   "cell_type": "markdown",
   "source": [
    "# TroMoM\n",
    "### Tropical Mosquito Monitor\n",
    "\n",
    "In this notebook, we read the preprocessed data as if the data were provided by the customer.\n",
    "Then, the data gets analyzed and further processed to the point of outputting the hazard map.\n",
    "\n",
    "The processing steps, as specified in the project plan, are the following:\n",
    "\n",
    "\n",
    "![](data_flow.png)"
   ],
   "metadata": {
    "collapsed": false
   }
  },
  {
   "cell_type": "markdown",
   "source": [
    "### Imports"
   ],
   "metadata": {
    "collapsed": false
   }
  },
  {
   "cell_type": "code",
   "execution_count": null,
   "outputs": [],
   "source": [
    "import os\n",
    "\n",
    "import numpy as np\n",
    "\n",
    "import rasterio"
   ],
   "metadata": {
    "collapsed": false
   }
  },
  {
   "cell_type": "markdown",
   "source": [
    "### Read Data\n",
    "As a first step, read preprocessed analysis-ready data from file."
   ],
   "metadata": {
    "collapsed": false
   }
  },
  {
   "cell_type": "code",
   "execution_count": null,
   "outputs": [],
   "source": [
    "\"\"\" Expected data structure\n",
    "\n",
    "<area_name>_EPSG<epsg>_<date:YYYY-MM-DD> (one folder per sample, defined by time and area)\n",
    "|\n",
    "|- surface_temperature.tiff\n",
    "|- soil_moisture.tiff\n",
    "|- ndvi.tiff\n",
    "|- population_density.tiff\n",
    "\"\"\"\n",
    "dir_data = \"data/processed/borneo_EPSG4326_2023-02-15\"    # example data directory\n",
    "\n",
    "\n",
    "def read_data(data_dir_list):\n",
    "    out = []\n",
    "    for data_dir in data_dir_list:\n",
    "        temp = rasterio.open(os.path.join(data_dir, \"surface_temperature.tiff\"))\n",
    "        moist = rasterio.open(os.path.join(data_dir, \"soil_moisture.tiff\"))\n",
    "        ndvi = rasterio.open(os.path.join(data_dir, \"ndvi.tiff\"))\n",
    "        pop = rasterio.open(os.path.join(data_dir, \"population_density.tiff\"))\n",
    "\n",
    "        print(temp.shape, type(temp))\n",
    "\n",
    "        out.append(np.concatenate((moist, temp, ndvi, pop)))\n",
    "\n",
    "    return out"
   ],
   "metadata": {
    "collapsed": false
   }
  },
  {
   "cell_type": "code",
   "execution_count": null,
   "outputs": [],
   "source": [
    "data_dir_list = os.listdir(\"data/processed\")\n",
    "# optionally provide spatial/temporal filtering options\n",
    "\n",
    "data = read_data(data_dir_list)     # a list of stacked data samples"
   ],
   "metadata": {
    "collapsed": false
   }
  },
  {
   "cell_type": "markdown",
   "source": [
    "### Process Data\n",
    "Now, the actual processing for our product starts, following the data flow specified at the top.\n",
    "The simplest algorithm would be to threshold all data layers separately, so we specify the necessary thresholds."
   ],
   "metadata": {
    "collapsed": false
   }
  },
  {
   "cell_type": "code",
   "execution_count": null,
   "outputs": [],
   "source": [
    "# need to be determined by research/looking at example values in swampy areas\n",
    "\n",
    "# example values, typical values need to be determined after download of data\n",
    "thresh_temp = [20, 35]\n",
    "thresh_moisture = [.3, .9]\n",
    "thresh_ndvi = [.3, 1]\n",
    "thresh_pop = [.1, 1]"
   ],
   "metadata": {
    "collapsed": false
   }
  },
  {
   "cell_type": "code",
   "execution_count": null,
   "outputs": [],
   "source": [
    "def classify_by_threshold(data_list, threshs):\n",
    "    out = []\n",
    "    for data in data_list:\n",
    "        assert data.shape[0] == len(threshs), \"Number of thresholds must equal number of data layers.\"\n",
    "        classif = np.zeros(data.shape[:2])  # output per sample\n",
    "\n",
    "        for i, layer_, thresh_ in enumerate(zip(data, threshs)):\n",
    "            lower, upper = thresh_\n",
    "            classif[layer_ > lower & layer_ < upper] += 10**i   # keep track which conditions are met\n",
    "\n",
    "        out.append(classif)\n",
    "\n",
    "    return out"
   ],
   "metadata": {
    "collapsed": false
   }
  },
  {
   "cell_type": "code",
   "execution_count": null,
   "outputs": [],
   "source": [],
   "metadata": {
    "collapsed": false
   }
  }
 ],
 "metadata": {
  "kernelspec": {
   "display_name": "Python 3",
   "language": "python",
   "name": "python3"
  },
  "language_info": {
   "codemirror_mode": {
    "name": "ipython",
    "version": 2
   },
   "file_extension": ".py",
   "mimetype": "text/x-python",
   "name": "python",
   "nbconvert_exporter": "python",
   "pygments_lexer": "ipython2",
   "version": "2.7.6"
  }
 },
 "nbformat": 4,
 "nbformat_minor": 0
}
